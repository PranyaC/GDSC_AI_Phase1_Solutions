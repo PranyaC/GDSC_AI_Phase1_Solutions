{
 "cells": [
  {
   "cell_type": "code",
   "execution_count": 1,
   "id": "3481f539",
   "metadata": {},
   "outputs": [],
   "source": [
    "def StringManipulation(input_str):\n",
    "    \n",
    "    output1_str = \"\"\n",
    "    for s in input_str:\n",
    "        if (ord(s)>=65 and ord(s)<90) or (ord(s)>=97 and ord(s)<122):\n",
    "            output1_str += chr(ord(s)+1)\n",
    "        elif s=='z':\n",
    "            output1_str += 'a'\n",
    "        elif s=='Z':\n",
    "            output1_str += 'A'\n",
    "        else:\n",
    "            output1_str += s\n",
    "    print(\"\\nOutput 1 (succeeding alphabet):\\n\",output1_str)\n",
    "    \n",
    "    output2_str = \"\"\n",
    "    for s in output1_str:\n",
    "        if s not in \"aeiouAEIOU\":\n",
    "            output2_str += s\n",
    "    output2_str = output2_str[::-1]\n",
    "    print(\"\\nOutput 2 (vowel removal and reversal):\\n\",output2_str)\n",
    "    \n",
    "    output3_str = input_str[::2]\n",
    "    print(\"\\nOutput 3 (alternate characters):\\n\",output3_str)"
   ]
  },
  {
   "cell_type": "code",
   "execution_count": 2,
   "id": "8aa0db49",
   "metadata": {},
   "outputs": [
    {
     "name": "stdout",
     "output_type": "stream",
     "text": [
      "Enter a string: ComputerProgrammingIsForGeeks1234\n",
      "\n",
      "Output 1 (succeeding alphabet):\n",
      " DpnqvufsQsphsbnnjohJtGpsHfflt1234\n",
      "\n",
      "Output 2 (vowel removal and reversal):\n",
      " 4321tlffHspGtJhjnnbshpsQsfvqnpD\n",
      "\n",
      "Output 3 (alternate characters):\n",
      " CmuePormigsoGes24\n"
     ]
    }
   ],
   "source": [
    "user_input = input(\"Enter a string: \")\n",
    "StringManipulation(user_input)"
   ]
  },
  {
   "cell_type": "code",
   "execution_count": null,
   "id": "9bdb3ce0",
   "metadata": {},
   "outputs": [],
   "source": []
  }
 ],
 "metadata": {
  "kernelspec": {
   "display_name": "Python 3",
   "language": "python",
   "name": "python3"
  },
  "language_info": {
   "codemirror_mode": {
    "name": "ipython",
    "version": 3
   },
   "file_extension": ".py",
   "mimetype": "text/x-python",
   "name": "python",
   "nbconvert_exporter": "python",
   "pygments_lexer": "ipython3",
   "version": "3.8.8"
  }
 },
 "nbformat": 4,
 "nbformat_minor": 5
}
